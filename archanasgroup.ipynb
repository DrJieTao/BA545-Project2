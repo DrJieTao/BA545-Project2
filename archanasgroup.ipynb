{
 "cells": [
  {
   "cell_type": "markdown",
   "metadata": {},
   "source": [
    "# <center>Adding Value & Finding Insights From Online Shopper Data</center>\n",
    "\n",
    "<h1><center>Project Report</center></h1>\n",
    "\n",
    "<center>Dylan Meyer, Peter Groglio, Archana Agarwal</center>\n",
    "\n",
    "[Associated Presentation](https://drive.google.com/file/d/1ebdXVQaO21qbGAKmwSZiW0VQ7YOOsV--/view?usp=sharing) "
   ]
  },
  {
   "cell_type": "markdown",
   "metadata": {},
   "source": [
    "# Business Understanding:\n",
    "A dataset has been gathered for the purpose of predicting user intent to purchase, consisting of session level data as well as the aggregation of webpage statistics for each session. \n",
    "\n",
    "In order to be of the best use to our clients we have decided to leverage this data in order to provide the marketing team with targeted assessments both for individual clients, and user segmentation for groups of clients. This will allow for servicing existing customers in a comprehensive manner as well as prospecting for future valuable clients. \n"
   ]
  },
  {
   "cell_type": "markdown",
   "metadata": {},
   "source": [
    "## Business Objectives:\n",
    "- Establish the ability to determine if users will have a propensity to purchase our product \n",
    "- Segment user groups based on their web history on our site for more targeted client interactions\n",
    "- Explore further insights around user actions and experience\n"
   ]
  },
  {
   "cell_type": "markdown",
   "metadata": {},
   "source": [
    "## Data Mining Goals:\n",
    "- Train a model or multiple models to reasonably predict whether or not a customer will purchase anything from our site.\n",
    "- Engineer new features from the existing dataset which will have an impact on the model's predictive power\n",
    "- Recommend additional information to track for more accurate modeling or make our client segmentation more useful\n",
    "- Explore a variety of models and their efficacy in accuracy, predictive power, and consistency\n"
   ]
  },
  {
   "cell_type": "markdown",
   "metadata": {},
   "source": [
    "# Data Understanding:"
   ]
  },
  {
   "cell_type": "markdown",
   "metadata": {},
   "source": [
    "## Data Assumptions:\n",
    "All web page stats are treated as the average value of all webpages seen in the user’s session\n",
    "## Data Dictionary:\n",
    "A [Data Dictionary](https://docs.google.com/spreadsheets/d/1cvWTEruAo16xvobsGKet90kCKNbkX8sRvzReJT0bCbA/edit?usp=sharing) was compiled to express our collective understanding of each field present in the dataset"
   ]
  },
  {
   "cell_type": "markdown",
   "metadata": {},
   "source": [
    "## Descriptive Statistics:\n",
    "- The initial data is composed of 12,330 rows, and 18 columns\n",
    "- Most of the fields seem to be quite imbalanced. This will mean that binning will be required prior to predictions. \n",
    "    - Similarly, the target variable is also heavily imbalanced. We will plan to use SMOTE to fix this imbalance\n",
    "- Initial analysis has not found any obvious null values. \n",
    "    - Imputation may not be necessary. \n",
    "- Average time spent per page:\n",
    "    - admin:  37.94881948546389\n",
    "    - info:  69.39555127426121\n",
    "    - product:  37.75003240438953\n",
    "- Overlap between page types:\n",
    "    - 12,292 w/ any product related (99.69%)\n",
    "    - 2,631 w/ any informational (21.34%)\n",
    "    - 6,562 w/ any admin (53.22%)\n",
    "    - 2,168 w/ Informational and Admin (17.58%) - shows a lot of overlap considering info was 21% originally - users potentially cluster here?\n",
    "    - 6,537 w/ Admin + Product (53.02%) - shows almost all admins also look at product info\n",
    "    - 2,623 w/ Informational and Product (21.27%) - similarly almost all informational have also looked at products\n",
    "    - 2,167 sessions with all 3 types (17.58%)\n",
    "    - This shows that almost all sessions used product, even those which focused on info/admin\n"
   ]
  },
  {
   "cell_type": "markdown",
   "metadata": {},
   "source": [
    "## Data Exploration:\n",
    "- 720 rows have sessions with no time allocated towards any webpage type, accounting for ~6% of data\n",
    "    - Of these, 99% do not have a purchase. A variable “no_time” will be created to account for this.\n",
    "- A combination of bounce_rate and exit_rate seems to create a distinct separation in the target variable’s classes\n",
    "- <img src=\"bounce_exit_plot.png\" alt=\"Drawing\" style=\"width: 350px;\"/>\n",
    "- “Bounce_exit” will be created as a new field which is a linear combination consisting of Bounce_rate + (3 * exit_rate)\n",
    "- The data is missing for both January and April. This implies that the data may either be missing or incomplete.\n"
   ]
  },
  {
   "cell_type": "markdown",
   "metadata": {},
   "source": [
    "# Data Preparation:\n",
    "## Data Set & Select Data:\n",
    "### Separate Categorical and Continuous Values:\n",
    "- Continuous\n",
    "    - Administrative\n",
    "    - Administrative_Duration\n",
    "    - Informational\n",
    "    - Informational_Duration\n",
    "    - ProductRelated\n",
    "    - ProductRelated_Duration\n",
    "    - BounceRates\n",
    "    - ExitRates\n",
    "    - PageValues\n",
    "    - SpecialDay\n",
    "- Categorical\n",
    "    - Month\n",
    "    - OperatingSystems\n",
    "    - Browser\n",
    "    - Region\n",
    "    - TrafficType\n",
    "    - VisitorType\n",
    "    - Weekend\n",
    "    - Revenue\n"
   ]
  },
  {
   "cell_type": "markdown",
   "metadata": {},
   "source": [
    "## Clean, Construct, Integrate, Format Data:\n",
    "## Pipeline Options:\n",
    "- [__Pipeline A__](https://github.com/fairfield-university-ba545/project2-archana-s-team/blob/master/pete/Pipeline_A.ipynb)\n",
    "    - Normalization\n",
    "        - Try various transformation methods including the Yeo Johnson method for normalizing. \n",
    "        - The Yeo Johnson is an alternative to the Box-Cox power transform technique\n",
    "        - It estimates the optimal value of lambda\n",
    "        - The Yeo Johnson is similar to the Box-Cox, however it allows for the transformation of non-positive data.\n",
    "    - ZScore\n",
    "        - Find the Z Score values for the columns\n",
    "        - Z Score is the values relationship to the mean\n",
    "        - Outlier detections w/ std dev.\n",
    "        - Find outliers by detecting values that are outside of 3 standard deviations from the mean\n",
    "        - Write code to push them back into the data set to standardize them\n",
    "- [__Pipeline B__](https://github.com/fairfield-university-ba545/project2-archana-s-team/blob/master/archana/data_prep-Final.ipynb)\n",
    "    - IQR outlier detection + handling  \n",
    "        - Outliers are data points that are far from other data points. Histograms were used to check the outliers in the dataset.\n",
    "        - Higher and lower range of Interquartile range was defined to move the outliers within 1.5* Interquartile range\n",
    "    - Data Scaling\n",
    "        - Min-max scaling  -  In this approach, the data is scaled to a fixed range - usually 0 to 1.\n",
    "        - This approach will end up with smaller standard deviations, which can suppress the effect of outliers.\n",
    "    - Data Normalization\n",
    "        - Applied different methods to normalize the data and power transformer method Yeo-Johnson.\n",
    "        - It helps in making the data more Gaussian-like and takes into account both positive and negative values which Box-Cox method fails to apply. \n",
    "- [__Pipeline C__](https://github.com/fairfield-university-ba545/project2-archana-s-team/blob/master/dylan/pipeline_c.ipynb)\n",
    "    - Outlier detection + handling with IQR\n",
    "        - Leverage IQR to find outliers and move them to edge of +/- 1.5 * IQR range\n",
    "    - Binning of Categorical Variables\n",
    "        - 5-finger-rule for binning of values\n",
    "    - KMeans clustering for each continuous variable\n",
    "        - Distortion plots show less than 5 clusters is ideal for all continuous value binning after IQR standardization\n",
    "        - Each field now associated with a single cluster\n",
    "        \n",
    "## Merge Pipeline Data:\n",
    "- Merge data from all pipelines, add a suffix of ‘pipeline_x’ for each\n",
    "- Now that all fields are available, the best combination of each can be used in modelling\n"
   ]
  },
  {
   "cell_type": "markdown",
   "metadata": {},
   "source": [
    "## Correlation Analysis:\n",
    "- Original Data standalone\n",
    "    - <img src=\"original_corr.png\" alt=\"Drawing\" style=\"width: 400px;\"/>\n",
    "- There are a large amount of correlated fields. This will need to be taken into account prior to modelling\n",
    "\n",
    "\n",
    "Pipelines A and B show similar correlation. Pipeline C is all categorical and cannot be viewed in the same manner. \n",
    "- Pipeline A\n",
    "    - <img src=\"pipeline_a_corr.png\" alt=\"Drawing\" style=\"width: 400px;\"/>\n",
    "- Pipeline B\n",
    "    - <img src=\"pipeline_b_corr.png\" alt=\"Drawing\" style=\"width:400px;\"/>\n",
    "\n",
    " \n",
    "Each type of correlation analysis will help determine the fields with high correlation both from within pipeline and across them. This can be taken into account for feature selection purposes.\n"
   ]
  },
  {
   "cell_type": "markdown",
   "metadata": {},
   "source": [
    "# Modelling - Predict Revenue:\n",
    "## Feature Selection:\n",
    "- [RFE](https://github.com/fairfield-university-ba545/project2-archana-s-team/blob/master/shared_code/rfe_corr.py) \n",
    "    - Recursive Feature Elimination\n",
    "        - Technique that assigns weights to features\n",
    "        - Select the features by recursively selecting smaller and smaller sets of data\n",
    "        - Can be optimized for each model intended for use\n",
    "- Removal of correlated features\n",
    "    - Correlation analysis displayed that some means of removing correlated features is required\n",
    "- Combining Feature Selection Techniques\n",
    "    - RFE leveraged for specific model types\n",
    "    - Features ordered through RFE per model\n",
    "    - Remove features correlated to those seen as having more predictive power\n",
    "    - Also remove features from alternative pipelines if they are derived from same initial data\n"
   ]
  },
  {
   "cell_type": "markdown",
   "metadata": {},
   "source": [
    "## Select Modelling Techniques:\n",
    "\n",
    "In order to select the most accurate models, each member of the team tested out the 6 models and we cross validated the results.\n",
    "\n",
    "- Naive Bayes\n",
    "- Logistic Regression\n",
    "- Decision Tree\n",
    "- Random Forest\n",
    "- SVM\n",
    "- XGBoost\n"
   ]
  },
  {
   "cell_type": "markdown",
   "metadata": {},
   "source": [
    "## Assess Initial Models:\n",
    "- AUC Evaluation - \n",
    "    - ROC-AUC curve helps in measuring the performance of the model. \n",
    "    - ROC is a probability curve and AUC represents degree or measure of separability. \n",
    "    - It tells how much a model is capable of distinguishing between classes. \n",
    "    - Higher the AUC, better the model is at predicting if the customer would make a purchase or not.\n",
    "- Classification Report - \n",
    "    - Classification report helps in determining whether the predicted value matched the actual value and displays the precision, recall, F1, and support scores for the model.\n",
    "\n",
    "On the basis of these metrics, the most promising models were XGBoost, Random Forest, Support Vector Machine\n",
    "\n",
    "[Full Results](https://docs.google.com/spreadsheets/d/1_fL1TIb08jYMj-BAQjTE8nMf5x_NnAfwD7jBWfmELww/edit?usp=sharing)\n",
    "\n",
    "<img src=\"initial_results.png\" alt=\"Drawing\" style=\"width: 400px;\"/>\n"
   ]
  },
  {
   "cell_type": "markdown",
   "metadata": {},
   "source": [
    "## Optimize Hyperparameters:\n",
    "- Grid Search\n",
    "    - Exhaustive search of model hyperparameters to derive best set\n",
    "    - Final Models\n",
    "        - [Random Forest](https://github.com/fairfield-university-ba545/project2-archana-s-team/blob/master/archana/Data%20prep/Model%20tuning.ipynb)\n",
    "            - Criterion - [Gini or Entropy] - The function to measure the quality of a split.\n",
    "            - N_estimators - [75,150,200,300, 450,500] - Number of trees used in the forest\n",
    "            - max_depth = [3,4,5,8,10] - The maximum depth of the tree.\n",
    "            - min_samples_split = [2,5,10] - The minimum number of samples required to split an internal node.\n",
    "            - min_samples_leaf = [1,2,4] - The minimum number of samples required to split to be at a leaf node. \n",
    "        - [SVM (Support Vector Machine)](https://github.com/fairfield-university-ba545/project2-archana-s-team/blob/master/pete/SVM_Hyperparam_Tune.ipynb)\n",
    "            - C - [1.0,2.0,3.0,4.0,5.0,6.0] - Regularization parameter\n",
    "            - Decision_Function_Shape - [OVO or OVR] Return One vs Rest (ovr) or One vs One (ovo)\n",
    "            - Kernel -  [RBF or Linear] - Kernel type used in the algorithm\n",
    "        - [XGBoost](https://github.com/fairfield-university-ba545/project2-archana-s-team/blob/master/dylan/optimize_xgb.ipynb)\n",
    "            - Max_depth - Maximum depth which the trees may travel\n",
    "            - N_estimators - Number of trees in the overall forest\n",
    "            - Learning Rate - stepwise shrinkage of feature weights passed to boosting to prevent overfitting\n",
    "            - Gamma - Minimum loss required to further split a leaf node\n",
    "            - Subsample - Ratio of training data to use in tree growth\n",
    "            - Colsample_bytree - Ratio of features to be used in each tree\n"
   ]
  },
  {
   "cell_type": "markdown",
   "metadata": {},
   "source": [
    "## Ensemble Model Creation:\n",
    "### Combine the optimized stand-alone models for increased performance\n",
    "- [Voting Classifier](https://github.com/fairfield-university-ba545/project2-archana-s-team/blob/master/dylan/ensemble.ipynb)\n",
    "    - Each model in the classifier yields a “vote” for classifying input data\n",
    "    - Contribution of each model can be altered to give more weight to preferable models\n",
    "    - 60/20/20 split favoring most weight on the XGBoost as it performed the best following individual optimization\n",
    "- Feature Sets\n",
    "    - Same features used for each model within the ensemble\n",
    "    - All features used for initial ensemble, subset of features leveraging correlation analysis used in subsequent iterations\n"
   ]
  },
  {
   "cell_type": "markdown",
   "metadata": {},
   "source": [
    "## Assess Optimal Models:\n",
    "Report on results of grid search\n",
    "- AUC Evaluation\n",
    "- Classification Report\n",
    "- [Compare results of each model and ensemble](https://docs.google.com/spreadsheets/d/1_fL1TIb08jYMj-BAQjTE8nMf5x_NnAfwD7jBWfmELww/edit?usp=sharing)\n",
    "\n",
    "<img src=\"optimized_res.png\" alt=\"Drawing\" style=\"width: 400px;\"/>\n"
   ]
  },
  {
   "cell_type": "markdown",
   "metadata": {},
   "source": [
    "## Feature Importance:\n",
    "\n",
    "__SVM Results:__\n",
    "\n",
    "<img src=\"svm_feat_imp.png\" alt=\"Drawing\" style=\"width: 400px;\"/>\n",
    "\n",
    "You can see below that the feature of Page Values is important as it shows the higher the page value, the better chance of making a purchase\n",
    "\n",
    "<img src=\"svm_special_day.png\" alt=\"Drawing\" style=\"width: 400px;\"/>\n",
    "\n",
    "The closer you are to a special day, the more likely you are to make a sale. Since you can see before the model some data in between the range, after the model, more no revenues go away from 0 (the time farther away from a special day) meaning the further away from a special day you go, the less likely you are to purchase\n"
   ]
  },
  {
   "cell_type": "markdown",
   "metadata": {},
   "source": [
    "__Random Forest Results:__\n",
    "\n",
    "<img src=\"rf_product.png\" alt=\"Drawing\" style=\"width: 400px;\"/>\n",
    "\n",
    "The results from the model show that most of the revenue is above the mean line. The plot shows that as the Product related duration increases there is a higher possibility of purchase. \n",
    "\n",
    "<img src=\"rf_bounce.png\" alt=\"Drawing\" style=\"width: 400px;\"/>\n",
    "\n",
    "The model captures the trend correctly showing that as the bounce rates increases, there is a low probability of a purchase and as the bounce rates decreases , there is a high probability of a purchase.\n"
   ]
  },
  {
   "cell_type": "markdown",
   "metadata": {},
   "source": [
    "## XGBoost Model Explainability - [SHAP](https://github.com/fairfield-university-ba545/project2-archana-s-team/blob/master/dylan/shap.ipynb)\n",
    "- Shap Values allow for easier explainability in black-box models\n",
    "- Color-coded for feature values\n",
    "- Ability to see impact on model predictions\n",
    "\n",
    "<img src=\"shap_overall.png\" alt=\"Drawing\" style=\"width: 400px;\"/>\n",
    "\n",
    "Shap displays feature values based on color coding where red refers to higher and blue lower values respectively). Items to the left of the vertical line in the center correspond to a lower probability of purchasing, while those on the right show values leading to a higher liklihood of purchasing. Additionally, features are ordered from top to bottom in order of overall importance to final predictions.\n",
    "\n",
    "This is best seen in an example:\n",
    "\n",
    "- PageValues_b\n",
    "    - Red values on the right of the vertical line implies that high page values lead to a higher liklihood of revenue\n",
    "    - Blue values on the left of the vertical line show that web sessions with lower page values are less likely to provide revenue\n",
    "    \n",
    "- bounce_exit_iqr_standardized_cluster_c_2\n",
    "    - Red values on left-hand side of vertical line implies higher values for the combination of bounce and exit rate lead to a lower probability of client purchases.\n",
    "    - Blue on the right-hand side of the vertical line shows a lower bounce/exit rate leads to a higher liklihood of client purchases\n",
    "    - Both of these previous notions makes intuitive sense as a low bounce/exit rate implies a positive experiance, while a higher rate most likely means a more negative experiance\n",
    "\n",
    "## One-off Explanability\n",
    "\n",
    "Shap provides the ability to see the impact of each feature per prediction. This is particularly useful in building confidence in the model, as well as addressing business concerns where a single example acts as a stand-in for an overall explanation\n",
    "\n",
    "\n",
    "The following is an example web session history which led to a very low predicted probability of purchasing. It can be seen that each individual feature contributed to the overall low prediction.\n",
    "\n",
    "<img src=\"shap_neg.png\" alt=\"Drawing\" style=\"width: 400px;\"/>\n",
    "\n",
    "Similarly there are some cases in which each component of the web session contributes positively towards a high probability of revenue. It can be seen that Page Values play a particularly valuable role in the following case based on the \"elbow-like\" movement towards a very high probability prediction. \n",
    "\n",
    "<img src=\"shap_pos.png\" alt=\"Drawing\" style=\"width: 400px;\"/>\n",
    "\n"
   ]
  },
  {
   "cell_type": "markdown",
   "metadata": {},
   "source": [
    "## Value of Model:\n",
    "- Assign purchasing probability to existing clients\n",
    "    - Have a better sense for how likely clients are to purchase from us\n",
    "- Prospecting tool for potential new clients\n",
    "    - Assess whether newly incoming clients are likely to purchase given their initial web sessions\n",
    "- Set correct expectations for Sales Representatives\n",
    "    - Know which individuals are easier and harder to sell to\n",
    "    - Can strategically target only those who are already mroe likely to spend\n",
    "    - Alternatively, only focus on clients who have less chance to purchase as others are already more likely and do not need special attention\n",
    "- Our model produces reliable results when predicting whether a client will buy products\n",
    "- Model performance can improve with additional data\n",
    "    - As time progresses the model will naturally become more accurate as data is funneled in\n",
    "- Additional data which would be useful\n",
    "    - Cost of items purchased by clients\n",
    "    - Number of distinct purchases\n",
    "    - Time spent as a client\n",
    "    - Product level information\n",
    "- Predictions at an individual level which are highly valuable across the company\n",
    "\n"
   ]
  },
  {
   "cell_type": "markdown",
   "metadata": {},
   "source": [
    "# [High-Level Client Segmentation](https://github.com/fairfield-university-ba545/project2-archana-s-team/blob/master/dylan/user_segmentation.ipynb)\n",
    "- Previous model focused on individual level predictions\n",
    "- Predictions are often more actionable when given at scale or higher level\n",
    "- User clustering can provide more actionable insight in certain cases"
   ]
  },
  {
   "cell_type": "markdown",
   "metadata": {},
   "source": [
    "## Select Modelling Techniques:\n",
    "- K Means clustering"
   ]
  },
  {
   "cell_type": "markdown",
   "metadata": {},
   "source": [
    "## Assess Initial Models:\n",
    "- Distortion Plots\n",
    "    - Measure for finding optimal number of clusters, displaying the point of diminishing returns where adding clusters does not add value\n",
    "    - <img src=\"distortion_chart.png\" alt=\"Drawing\" style=\"width: 400px;\"/>\n",
    "    - It appears that any more than 10 clusters does not add much additional value\n",
    "    - In normal business operations, fewer clusters is better for clarity and more actionable decision-making. Therefore, 5 clusters will be leveraged\n",
    "\n",
    "- Cluster Visualization\n",
    "    - PCA leveraged to reduce dimensionality of input data to qualitatively assess clusters\n",
    "    - <img src=\"pca_clusters.png\" alt=\"Drawing\" style=\"width: 400px;\"/>\n",
    "    - Clusters appear relatively distinct. Addition of more clusters does not lead to great improvements\n",
    "    - Silhouette Score of 0.187 showS moderate performance\n"
   ]
  },
  {
   "cell_type": "markdown",
   "metadata": {},
   "source": [
    "## Cluster Use:\n",
    "- View how different fields are represented across clusters\n",
    "    - Revenue\n",
    "        - <img src=\"sales_clusters.png\" alt=\"Drawing\" style=\"width: 400px;\"/>\n",
    "        - Revenue is concentrated in cluster 5\n",
    "        - Other clusters have historically contributed very little in overall revenue\n",
    "    - Bounce/Exit Rates\n",
    "        - <img src=\"bounce_exit_clusters.png\" alt=\"Drawing\" style=\"width: 400px;\"/>\n",
    "        - Know that a combination of bounce and exit rate is highly correlated with whether or not revenue will occur. Clustering shows stark differences across these rates\n",
    "        - Once again, Cluster 5 is seen as the lowest overall bounce/exit rate which makes intuitive sense given that this same cluster was most sucessful in delivering revenue\n"
   ]
  },
  {
   "cell_type": "markdown",
   "metadata": {},
   "source": [
    "# Evaluation:\n",
    "## Value of our Predictions:\n",
    "- User Segmentation\n",
    "    - Segmentation provides business partners with an easier way of approximating different client segments\n",
    "    - Marketing and targeted ads\n",
    "        - Alter strategies based on the segments particular users fall in\n",
    "    - AB testing site changes to try to increase revenue with lowly engaged users\n",
    "        - Create several different versions of the site for each cluster\n",
    "        - Alternatively test 2 versions of the site\n",
    "            - No changes for Cluster 5 which already provides revenue\n",
    "            - Dramatically alter the site for other clusters as they are less likely to produce revenue already"
   ]
  },
  {
   "cell_type": "markdown",
   "metadata": {},
   "source": [
    "# Overall Value Added:\n",
    "- Identify key features in driving potential customers to make a purchase revenue\n",
    "- Suggestions/Recommendations: \n",
    "    - A prospecting tool where marketing emails those more likely to purchase based on data\n",
    "    - A sales team time bank touch plan strategy using segmentation\n",
    "        - 70% of their time in a year on high value\n",
    "        - 25% of their time in a year on low value\n",
    "        - 5% of their time in a year on unknown value\n",
    "- Next Steps:\n",
    "    - Additional data which would be useful\n",
    "        - January and April do not have data. Would be useful to have these to test seasonality more thoroughly \n",
    "            - Similarly, additional years of data would be very useful for looking at year over year trends\n",
    "    - More granular data into Product pages\n",
    "    - Shipping costs for each product which would affect the purchase\n",
    "    - Purchase behavior after sale is made (if there is a return)\n",
    "    - Other problems we can solve for the client\n",
    "        - Recommendation system for different product pages per person"
   ]
  }
 ],
 "metadata": {
  "kernelspec": {
   "display_name": "Python 3",
   "language": "python",
   "name": "python3"
  },
  "language_info": {
   "codemirror_mode": {
    "name": "ipython",
    "version": 3
   },
   "file_extension": ".py",
   "mimetype": "text/x-python",
   "name": "python",
   "nbconvert_exporter": "python",
   "pygments_lexer": "ipython3",
   "version": "3.6.7"
  }
 },
 "nbformat": 4,
 "nbformat_minor": 4
}
